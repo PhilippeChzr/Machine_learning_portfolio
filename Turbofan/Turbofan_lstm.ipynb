{
 "cells": [
  {
   "cell_type": "code",
   "execution_count": null,
   "id": "96cf9278-52af-4307-bcd8-309530dc893a",
   "metadata": {},
   "outputs": [],
   "source": [
    "# Note: this notebook is not finished, the current results are bad...\n",
    "# In this notebook, we try to predict the RUL of each machine using a LSTM network\n",
    "# in Pytorch Lightning\n",
    "# The first step is to prepare the data using the results from Turbofan.ipynb\n",
    "# Then, we prepare the time series and finally we train a model\n",
    "# the predicted values are plot and compared "
   ]
  },
  {
   "cell_type": "code",
   "execution_count": 28,
   "id": "726459a7-d63a-4bbf-ae9a-b8e995b514ae",
   "metadata": {},
   "outputs": [],
   "source": [
    "import sys\n",
    "import math\n",
    "import pandas as pd\n",
    "import numpy as np\n",
    "import matplotlib.pyplot as plt\n",
    "from sklearn import preprocessing\n",
    "from sklearn.model_selection import TimeSeriesSplit\n",
    "from sklearn.model_selection import KFold\n",
    "import torch\n",
    "import torch.nn as nn\n",
    "from torch.utils.data import DataLoader, dataloader, TensorDataset\n",
    "from torch.utils.data import Subset\n",
    "import pytorch_lightning as pl\n",
    "from pytorch_lightning import loggers as pl_loggers\n",
    "from pytorch_lightning import Trainer\n",
    "from pytorch_lightning.callbacks import Callback\n",
    "from torch.autograd import Variable\n",
    "import torchmetrics\n",
    "from torch.optim.lr_scheduler import ExponentialLR\n",
    "from torchinfo import summary"
   ]
  },
  {
   "cell_type": "code",
   "execution_count": 29,
   "id": "fe993bf8-ebd5-455f-8869-5b5dcadb23a7",
   "metadata": {},
   "outputs": [],
   "source": [
    "source  = {}\n",
    "source[\"train\"] = [\"./CMAPSSData/train_FD00{}.txt\".format(i) for i in range(1, 5)]\n",
    "source[\"test\"] = [\"./CMAPSSData/test_FD00{}.txt\".format(i) for i in range(1, 5)]\n",
    "source[\"rul\"] = [\"./CMAPSSData/RUL_FD00{}.txt\".format(i) for i in range(1, 5)]"
   ]
  },
  {
   "cell_type": "code",
   "execution_count": 30,
   "id": "a54ae409-0667-40a8-b9c8-9b4ef9a5f5b2",
   "metadata": {},
   "outputs": [
    {
     "name": "stdout",
     "output_type": "stream",
     "text": [
      "train\n",
      "     ./CMAPSSData/train_FD001.txt\n",
      "     ./CMAPSSData/train_FD002.txt\n",
      "     ./CMAPSSData/train_FD003.txt\n",
      "     ./CMAPSSData/train_FD004.txt\n",
      "test\n",
      "     ./CMAPSSData/test_FD001.txt\n",
      "     ./CMAPSSData/test_FD002.txt\n",
      "     ./CMAPSSData/test_FD003.txt\n",
      "     ./CMAPSSData/test_FD004.txt\n",
      "rul\n",
      "     ./CMAPSSData/RUL_FD001.txt\n",
      "     ./CMAPSSData/RUL_FD002.txt\n",
      "     ./CMAPSSData/RUL_FD003.txt\n",
      "     ./CMAPSSData/RUL_FD004.txt\n"
     ]
    }
   ],
   "source": [
    "for k in source:\n",
    "    print(k)\n",
    "    for f in source[k]:\n",
    "        print('{0: <4} {1}'.format('', f))"
   ]
  },
  {
   "cell_type": "code",
   "execution_count": 31,
   "id": "937ffe95-10ed-4102-8475-5222e9292f5d",
   "metadata": {},
   "outputs": [],
   "source": [
    "columns_name = ['unit', 'cycle'] +\\\n",
    "    [\"setting_{}\".format(i) for i in range(3)] +\\\n",
    "    [\"sensor_{}\".format(i) for i in range(21)]"
   ]
  },
  {
   "cell_type": "code",
   "execution_count": 32,
   "id": "ca2b2511-9509-4a1c-9911-50e6c8213bb6",
   "metadata": {},
   "outputs": [],
   "source": [
    "# function to prepare the data train\n",
    "def prepare_data_train(file_path):\n",
    "    # reading the file -> dataframe\n",
    "    df_train_0 = pd.read_csv(file_path,\n",
    "                         sep='\\s+',\n",
    "                         header=None,\n",
    "                         names=columns_name)\n",
    "    \n",
    "    # list of significant columns (see Turbofane_EDA.ipynb)\n",
    "    significant_columns_2 = ['unit', 'cycle', 'sensor_1', 'sensor_2', 'sensor_3',\n",
    "                             'sensor_5', 'sensor_6', 'sensor_7', 'sensor_8', \n",
    "                             'sensor_10', 'sensor_11', 'sensor_12', 'sensor_13', \n",
    "                             'sensor_14', 'sensor_16', 'sensor_19', 'sensor_20']\n",
    "    # list of units\n",
    "    list_of_units = np.unique(df_train_0[\"unit\"].values)\n",
    "    \n",
    "    # selecting the interesting columns\n",
    "    df_train_0_reduce = df_train_0[significant_columns_2].copy()\n",
    "    \n",
    "    # calculating RUL\n",
    "    dic_rul = {}\n",
    "    for u in list_of_units:\n",
    "        dic_rul[u] = np.max(df_train_0[df_train_0[\"unit\"] == u][\"cycle\"].values)\n",
    "\n",
    "    ruls_values = []\n",
    "    for u in list_of_units:\n",
    "        ruls_values += [dic_rul[u] - df_train_0[df_train_0[\"unit\"] == u][\"cycle\"].values]\n",
    "    ruls_values = np.concatenate(ruls_values, axis=0)\n",
    "    df_train_0_reduce[\"RUL\"] = ruls_values\n",
    "    \n",
    "    #spliting the data \n",
    "    U = df_train_0_reduce['unit'].values\n",
    "    X = df_train_0_reduce[['cycle', 'sensor_1', 'sensor_2', 'sensor_3',\n",
    "                             'sensor_5', 'sensor_6', 'sensor_7', 'sensor_8', \n",
    "                             'sensor_10', 'sensor_11', 'sensor_12', 'sensor_13', \n",
    "                             'sensor_14', 'sensor_16', 'sensor_19', 'sensor_20']].values\n",
    "    Y = df_train_0_reduce['RUL'].values\n",
    "    return (U, X, Y)"
   ]
  },
  {
   "cell_type": "code",
   "execution_count": 33,
   "id": "012e4419-b026-41b2-ab5f-9637f13af64b",
   "metadata": {},
   "outputs": [],
   "source": [
    "# function to normalize the data into [0, 1]\n",
    "# we create a transformer for X and one for Y\n",
    "# unit does not need it (only to split the data)\n",
    "def normalize(X, Y):\n",
    "    scalers = []\n",
    "    values = []\n",
    "    if len(Y.shape)==1:\n",
    "        Y = np.expand_dims(Y, -1)\n",
    "    for x in [X, Y]:\n",
    "        scaler = preprocessing.MinMaxScaler()\n",
    "        scaler.fit(x)\n",
    "        x = scaler.transform(x)\n",
    "        scalers += [scaler]\n",
    "        values += [np.squeeze(x)]\n",
    "    return scalers, values"
   ]
  },
  {
   "cell_type": "code",
   "execution_count": 34,
   "id": "fbdfec56-8c9c-49db-a144-3825f8a5fec1",
   "metadata": {},
   "outputs": [],
   "source": [
    "# the main idea is to produce a dataset by machine, to allow cross-validation \n",
    "def transform_to_list_of_time_series(U, X, Y, windows=5):\n",
    "    list_X = []\n",
    "    list_Y = []\n",
    "    list_of_units = np.unique(U)\n",
    "    for u in list_of_units:\n",
    "        idx = np.argwhere(U==u)  # indexes of rows for machine u\n",
    "        Xi = np.squeeze(X[idx])\n",
    "        Yi = Y[idx]\n",
    "        data = np.concatenate([Xi, Yi], axis=1)\n",
    "        datas = [(data[i :(i + windows), :-1], data[i + windows, -1]) for i in range(data.shape[0] - windows)]\n",
    "        Xi, Yi = zip(*datas)\n",
    "        Xi = np.array(Xi)\n",
    "        Yi = np.array(Yi)\n",
    "        list_X += [Xi]\n",
    "        list_Y += [Yi]\n",
    "    return list_X, list_Y"
   ]
  },
  {
   "cell_type": "code",
   "execution_count": 35,
   "id": "4db13ccc-f49e-4a78-9981-98c7c06ff0cc",
   "metadata": {},
   "outputs": [],
   "source": [
    "# spliting the dataset for cross-valisation\n",
    "# unification of the different machine\n",
    "def data_training_cross_val_old(list_X, list_Y, itr=0):\n",
    "    tscv = TimeSeriesSplit()\n",
    "    X_train = []\n",
    "    X_test = []\n",
    "    Y_train = []\n",
    "    Y_test = []\n",
    "    iNb = len(list_X)\n",
    "    for i in range(iNb):\n",
    "        idx_train = list(tscv.split(list_X[i]))[itr][0]\n",
    "        idx_test = list(tscv.split(list_X[i]))[itr][1]\n",
    "        X_train += [list_X[i][idx_train]]\n",
    "        Y_train += [list_Y[i][idx_train]]\n",
    "        X_test += [list_X[i][idx_test]]\n",
    "        Y_test += [list_Y[i][idx_test]]\n",
    "    X_train = np.concatenate(X_train, axis=0)\n",
    "    Y_train = np.concatenate(Y_train, axis=0)\n",
    "    X_test = np.concatenate(X_test, axis=0)\n",
    "    Y_test = np.concatenate(Y_test, axis=0)\n",
    "    return X_train, Y_train, X_test, Y_test"
   ]
  },
  {
   "cell_type": "code",
   "execution_count": 36,
   "id": "2e7234e7-5296-43d4-b01d-8da01f9e4c5e",
   "metadata": {},
   "outputs": [],
   "source": [
    "# spliting the dataset for cross-valisation\n",
    "# unification of the different machine\n",
    "def data_training_cross_val(list_X, list_Y, itr=0):\n",
    "    kf = KFold(n_splits=5)\n",
    "    idx = np.arange(len(list_X))\n",
    "    idx_train, _ = list(kf.split(idx))[itr]\n",
    "    X_train = []\n",
    "    X_test = []\n",
    "    Y_train = []\n",
    "    Y_test = []\n",
    "    for i in idx_train:\n",
    "        X_train += [list_X[i]]\n",
    "        Y_train += [list_Y[i]]\n",
    "        X_test += [list_X[i]]\n",
    "        Y_test += [list_Y[i]]\n",
    "    X_train = np.concatenate(X_train, axis=0)\n",
    "    Y_train = np.concatenate(Y_train, axis=0)\n",
    "    X_test = np.concatenate(X_test, axis=0)\n",
    "    Y_test = np.concatenate(Y_test, axis=0)\n",
    "    return X_train, Y_train, X_test, Y_test"
   ]
  },
  {
   "cell_type": "code",
   "execution_count": 37,
   "id": "0919e757-f978-4593-a628-47d6e2337751",
   "metadata": {},
   "outputs": [],
   "source": [
    "# definion of the model\n",
    "class Model(pl.LightningModule):\n",
    "    def __init__(self, dim_output, input_size, hidden_size, num_layers, window,lr=0.0002):\n",
    "        super().__init__()\n",
    "        self.save_hyperparameters()\n",
    "\n",
    "        self.lr = lr\n",
    "        self.dim_output = dim_output\n",
    "        self.num_layers = num_layers\n",
    "        self.input_size = input_size\n",
    "        self.hidden_size = hidden_size\n",
    "        self.window = window\n",
    "        # self.seq_length = seq_length\n",
    "        \n",
    "        self.lstm = nn.LSTM(input_size=input_size, \n",
    "                            hidden_size=hidden_size,\n",
    "                            num_layers=num_layers,\n",
    "                            batch_first=True)\n",
    "        \n",
    "        self.fc = nn.Linear(hidden_size * num_layers, dim_output)\n",
    "        self.criterion = torch.nn.MSELoss()\n",
    "        self.datas = {'loss':{'train':[], 'test':[]}}\n",
    "        # self.fig, self.axs = monitoring(self.datas, x_max=10, y_max=100, column_max=3)\n",
    "        \n",
    "    def forward(self, x):\n",
    "        h_0 = Variable(torch.zeros(self.num_layers, x.size(0), self.hidden_size))\n",
    "        c_0 = Variable(torch.zeros(self.num_layers, x.size(0), self.hidden_size))\n",
    "        _, (out, _)  = self.lstm(x, (h_0, c_0))\n",
    "        out = out.view(-1, self.hidden_size * self.num_layers)\n",
    "        out = self.fc(out)\n",
    "        return out\n",
    "    \n",
    "    def training_step(self, batch, batch_idx):\n",
    "        (x, y) = batch\n",
    "        y_hat = self.forward(x)\n",
    "        loss = self.criterion(y_hat, y)\n",
    "        # self.datas['loss']['train'] += [loss.detach().numpy()]\n",
    "        # monitoring_update(self.fig, self.axs, self.datas)\n",
    "        return {'loss':loss}\n",
    "    \n",
    "    def training_epoch_end(self, outputs):\n",
    "        loss_val = torch.stack([x['loss'] for x in outputs]).mean()\n",
    "        self.datas['loss']['train'] += [loss_val.detach().numpy()]\n",
    "        # log_dict = {'training_loss': loss_val, 'step': self.current_epoch}\n",
    "        # return {'log': log_dict}\n",
    "    \n",
    "    def validation_step(self, batch, batch_idx):\n",
    "        (x, y) = batch\n",
    "        y_hat = self.forward(x)\n",
    "        loss = self.criterion(y_hat, y)\n",
    "        # self.datas['loss']['test'] += [loss.detach().numpy()]\n",
    "        # monitoring_update(self.fig, self.axs, self.datas)\n",
    "        return {'val_loss': loss}\n",
    "    \n",
    "    def validation_epoch_end(self, outputs):\n",
    "        loss_val = torch.stack([x['val_loss'] for x in outputs]).mean()\n",
    "        self.datas['loss']['test'] += [loss_val.detach().numpy()]\n",
    "\n",
    "    def configure_optimizers(self):\n",
    "        opt = torch.optim.Adam(self.parameters(), lr=self.lr)\n",
    "        return opt"
   ]
  },
  {
   "cell_type": "code",
   "execution_count": 38,
   "id": "db4e3492-1098-4433-bc2c-586d2eca9a7c",
   "metadata": {},
   "outputs": [],
   "source": [
    "# transforming data into loaders\n",
    "# creation of dataset\n",
    "def transform_to_loader(X, Y, batch=16, num_workers=2):\n",
    "    if len(Y.shape) == 1:\n",
    "        Y = np.expand_dims(Y, -1)\n",
    "    ts_x = torch.Tensor(X) \n",
    "    ts_y = torch.Tensor(Y)\n",
    "    dataset = TensorDataset(ts_x,ts_y)\n",
    "    loader = DataLoader(dataset, batch_size=batch,\n",
    "                        num_workers=num_workers)\n",
    "    return loader"
   ]
  },
  {
   "cell_type": "code",
   "execution_count": 39,
   "id": "babd2262-b90a-4edb-aef2-2ec0f4aa766f",
   "metadata": {},
   "outputs": [
    {
     "name": "stdout",
     "output_type": "stream",
     "text": [
      "input shape: (14835, 20, 16)\n",
      "output shape: (14835,)\n"
     ]
    }
   ],
   "source": [
    "window = 20\n",
    "file_path = source[\"train\"][0]\n",
    "(U, X, Y) = prepare_data_train(file_path)\n",
    "scalers, values = normalize(X, Y)\n",
    "list_X, list_Y = transform_to_list_of_time_series(U, values[0], values[1], window)\n",
    "# spliting the data\n",
    "X_train, Y_train, X_test, Y_test = data_training_cross_val(list_X, list_Y, itr=3)\n",
    "print(\"input shape: {}\".format(X_train.shape))\n",
    "print(\"output shape: {}\".format(Y_train.shape))"
   ]
  },
  {
   "cell_type": "code",
   "execution_count": 40,
   "id": "c0f19a26-e31c-45c3-b1d7-1e622e1ddb26",
   "metadata": {},
   "outputs": [],
   "source": [
    "# defining loaders...\n",
    "batch = 16\n",
    "num_workers = 2\n",
    "train_loader = transform_to_loader(X_train, Y_train, batch, num_workers)\n",
    "val_loader = transform_to_loader(X_test, Y_test, batch, num_workers)"
   ]
  },
  {
   "cell_type": "code",
   "execution_count": 41,
   "id": "611aa47a-50f2-4819-b4a8-f723b600ee9a",
   "metadata": {},
   "outputs": [
    {
     "name": "stdout",
     "output_type": "stream",
     "text": [
      "Model(\n",
      "  (lstm): LSTM(16, 5, num_layers=2, batch_first=True)\n",
      "  (fc): Linear(in_features=10, out_features=1, bias=True)\n",
      "  (criterion): MSELoss()\n",
      ")\n"
     ]
    },
    {
     "data": {
      "text/plain": [
       "==========================================================================================\n",
       "Layer (type:depth-idx)                   Output Shape              Param #\n",
       "==========================================================================================\n",
       "Model                                    --                        --\n",
       "├─LSTM: 1-1                              [16, 20, 5]               700\n",
       "├─Linear: 1-2                            [16, 1]                   11\n",
       "├─MSELoss: 1-3                           --                        --\n",
       "==========================================================================================\n",
       "Total params: 711\n",
       "Trainable params: 711\n",
       "Non-trainable params: 0\n",
       "Total mult-adds (M): 0.22\n",
       "==========================================================================================\n",
       "Input size (MB): 0.02\n",
       "Forward/backward pass size (MB): 0.01\n",
       "Params size (MB): 0.00\n",
       "Estimated Total Size (MB): 0.04\n",
       "=========================================================================================="
      ]
     },
     "execution_count": 41,
     "metadata": {},
     "output_type": "execute_result"
    }
   ],
   "source": [
    "# defining a lstm model\n",
    "input_size = 16\n",
    "hidden_size = 5\n",
    "num_layers = 2\n",
    "dim_output = 1\n",
    "learning_rate = 0.0001\n",
    "net = Model(dim_output, input_size, hidden_size, num_layers, window, lr=learning_rate)\n",
    "print(net)\n",
    "summary(net, input_size=(batch, window, 16))"
   ]
  },
  {
   "cell_type": "code",
   "execution_count": 42,
   "id": "d628e21a-fce0-4f1c-acca-eafcbe8d8978",
   "metadata": {},
   "outputs": [
    {
     "name": "stderr",
     "output_type": "stream",
     "text": [
      "GPU available: False, used: False\n",
      "TPU available: False, using: 0 TPU cores\n",
      "IPU available: False, using: 0 IPUs\n",
      "\n",
      "  | Name      | Type    | Params\n",
      "--------------------------------------\n",
      "0 | lstm      | LSTM    | 700   \n",
      "1 | fc        | Linear  | 11    \n",
      "2 | criterion | MSELoss | 0     \n",
      "--------------------------------------\n",
      "711       Trainable params\n",
      "0         Non-trainable params\n",
      "711       Total params\n",
      "0.003     Total estimated model params size (MB)\n"
     ]
    },
    {
     "data": {
      "application/vnd.jupyter.widget-view+json": {
       "model_id": "",
       "version_major": 2,
       "version_minor": 0
      },
      "text/plain": [
       "Validation sanity check: 0it [00:00, ?it/s]"
      ]
     },
     "metadata": {},
     "output_type": "display_data"
    },
    {
     "name": "stderr",
     "output_type": "stream",
     "text": [
      "/home/medialdea/Documents/Pytorch/VE/lib/python3.8/site-packages/pytorch_lightning/trainer/data_loading.py:132: UserWarning: The dataloader, val_dataloader 0, does not have many workers which may be a bottleneck. Consider increasing the value of the `num_workers` argument` (try 4 which is the number of cpus on this machine) in the `DataLoader` init to improve performance.\n",
      "  rank_zero_warn(\n",
      "/home/medialdea/Documents/Pytorch/VE/lib/python3.8/site-packages/pytorch_lightning/trainer/data_loading.py:132: UserWarning: The dataloader, train_dataloader, does not have many workers which may be a bottleneck. Consider increasing the value of the `num_workers` argument` (try 4 which is the number of cpus on this machine) in the `DataLoader` init to improve performance.\n",
      "  rank_zero_warn(\n"
     ]
    },
    {
     "data": {
      "application/vnd.jupyter.widget-view+json": {
       "model_id": "0cbea06fdc384821a76115c758238092",
       "version_major": 2,
       "version_minor": 0
      },
      "text/plain": [
       "Training: 0it [00:00, ?it/s]"
      ]
     },
     "metadata": {},
     "output_type": "display_data"
    },
    {
     "data": {
      "application/vnd.jupyter.widget-view+json": {
       "model_id": "",
       "version_major": 2,
       "version_minor": 0
      },
      "text/plain": [
       "Validating: 0it [00:00, ?it/s]"
      ]
     },
     "metadata": {},
     "output_type": "display_data"
    },
    {
     "data": {
      "application/vnd.jupyter.widget-view+json": {
       "model_id": "",
       "version_major": 2,
       "version_minor": 0
      },
      "text/plain": [
       "Validating: 0it [00:00, ?it/s]"
      ]
     },
     "metadata": {},
     "output_type": "display_data"
    },
    {
     "data": {
      "application/vnd.jupyter.widget-view+json": {
       "model_id": "",
       "version_major": 2,
       "version_minor": 0
      },
      "text/plain": [
       "Validating: 0it [00:00, ?it/s]"
      ]
     },
     "metadata": {},
     "output_type": "display_data"
    },
    {
     "data": {
      "application/vnd.jupyter.widget-view+json": {
       "model_id": "",
       "version_major": 2,
       "version_minor": 0
      },
      "text/plain": [
       "Validating: 0it [00:00, ?it/s]"
      ]
     },
     "metadata": {},
     "output_type": "display_data"
    },
    {
     "data": {
      "application/vnd.jupyter.widget-view+json": {
       "model_id": "",
       "version_major": 2,
       "version_minor": 0
      },
      "text/plain": [
       "Validating: 0it [00:00, ?it/s]"
      ]
     },
     "metadata": {},
     "output_type": "display_data"
    },
    {
     "data": {
      "application/vnd.jupyter.widget-view+json": {
       "model_id": "",
       "version_major": 2,
       "version_minor": 0
      },
      "text/plain": [
       "Validating: 0it [00:00, ?it/s]"
      ]
     },
     "metadata": {},
     "output_type": "display_data"
    },
    {
     "data": {
      "application/vnd.jupyter.widget-view+json": {
       "model_id": "",
       "version_major": 2,
       "version_minor": 0
      },
      "text/plain": [
       "Validating: 0it [00:00, ?it/s]"
      ]
     },
     "metadata": {},
     "output_type": "display_data"
    },
    {
     "data": {
      "application/vnd.jupyter.widget-view+json": {
       "model_id": "",
       "version_major": 2,
       "version_minor": 0
      },
      "text/plain": [
       "Validating: 0it [00:00, ?it/s]"
      ]
     },
     "metadata": {},
     "output_type": "display_data"
    },
    {
     "data": {
      "application/vnd.jupyter.widget-view+json": {
       "model_id": "",
       "version_major": 2,
       "version_minor": 0
      },
      "text/plain": [
       "Validating: 0it [00:00, ?it/s]"
      ]
     },
     "metadata": {},
     "output_type": "display_data"
    },
    {
     "data": {
      "application/vnd.jupyter.widget-view+json": {
       "model_id": "",
       "version_major": 2,
       "version_minor": 0
      },
      "text/plain": [
       "Validating: 0it [00:00, ?it/s]"
      ]
     },
     "metadata": {},
     "output_type": "display_data"
    },
    {
     "data": {
      "application/vnd.jupyter.widget-view+json": {
       "model_id": "",
       "version_major": 2,
       "version_minor": 0
      },
      "text/plain": [
       "Validating: 0it [00:00, ?it/s]"
      ]
     },
     "metadata": {},
     "output_type": "display_data"
    },
    {
     "data": {
      "application/vnd.jupyter.widget-view+json": {
       "model_id": "",
       "version_major": 2,
       "version_minor": 0
      },
      "text/plain": [
       "Validating: 0it [00:00, ?it/s]"
      ]
     },
     "metadata": {},
     "output_type": "display_data"
    },
    {
     "data": {
      "application/vnd.jupyter.widget-view+json": {
       "model_id": "",
       "version_major": 2,
       "version_minor": 0
      },
      "text/plain": [
       "Validating: 0it [00:00, ?it/s]"
      ]
     },
     "metadata": {},
     "output_type": "display_data"
    },
    {
     "data": {
      "application/vnd.jupyter.widget-view+json": {
       "model_id": "",
       "version_major": 2,
       "version_minor": 0
      },
      "text/plain": [
       "Validating: 0it [00:00, ?it/s]"
      ]
     },
     "metadata": {},
     "output_type": "display_data"
    },
    {
     "data": {
      "application/vnd.jupyter.widget-view+json": {
       "model_id": "",
       "version_major": 2,
       "version_minor": 0
      },
      "text/plain": [
       "Validating: 0it [00:00, ?it/s]"
      ]
     },
     "metadata": {},
     "output_type": "display_data"
    },
    {
     "data": {
      "application/vnd.jupyter.widget-view+json": {
       "model_id": "",
       "version_major": 2,
       "version_minor": 0
      },
      "text/plain": [
       "Validating: 0it [00:00, ?it/s]"
      ]
     },
     "metadata": {},
     "output_type": "display_data"
    },
    {
     "data": {
      "application/vnd.jupyter.widget-view+json": {
       "model_id": "",
       "version_major": 2,
       "version_minor": 0
      },
      "text/plain": [
       "Validating: 0it [00:00, ?it/s]"
      ]
     },
     "metadata": {},
     "output_type": "display_data"
    },
    {
     "data": {
      "application/vnd.jupyter.widget-view+json": {
       "model_id": "",
       "version_major": 2,
       "version_minor": 0
      },
      "text/plain": [
       "Validating: 0it [00:00, ?it/s]"
      ]
     },
     "metadata": {},
     "output_type": "display_data"
    },
    {
     "data": {
      "application/vnd.jupyter.widget-view+json": {
       "model_id": "",
       "version_major": 2,
       "version_minor": 0
      },
      "text/plain": [
       "Validating: 0it [00:00, ?it/s]"
      ]
     },
     "metadata": {},
     "output_type": "display_data"
    },
    {
     "data": {
      "application/vnd.jupyter.widget-view+json": {
       "model_id": "",
       "version_major": 2,
       "version_minor": 0
      },
      "text/plain": [
       "Validating: 0it [00:00, ?it/s]"
      ]
     },
     "metadata": {},
     "output_type": "display_data"
    },
    {
     "data": {
      "application/vnd.jupyter.widget-view+json": {
       "model_id": "",
       "version_major": 2,
       "version_minor": 0
      },
      "text/plain": [
       "Validating: 0it [00:00, ?it/s]"
      ]
     },
     "metadata": {},
     "output_type": "display_data"
    },
    {
     "data": {
      "application/vnd.jupyter.widget-view+json": {
       "model_id": "",
       "version_major": 2,
       "version_minor": 0
      },
      "text/plain": [
       "Validating: 0it [00:00, ?it/s]"
      ]
     },
     "metadata": {},
     "output_type": "display_data"
    },
    {
     "data": {
      "application/vnd.jupyter.widget-view+json": {
       "model_id": "",
       "version_major": 2,
       "version_minor": 0
      },
      "text/plain": [
       "Validating: 0it [00:00, ?it/s]"
      ]
     },
     "metadata": {},
     "output_type": "display_data"
    },
    {
     "data": {
      "application/vnd.jupyter.widget-view+json": {
       "model_id": "",
       "version_major": 2,
       "version_minor": 0
      },
      "text/plain": [
       "Validating: 0it [00:00, ?it/s]"
      ]
     },
     "metadata": {},
     "output_type": "display_data"
    },
    {
     "data": {
      "application/vnd.jupyter.widget-view+json": {
       "model_id": "",
       "version_major": 2,
       "version_minor": 0
      },
      "text/plain": [
       "Validating: 0it [00:00, ?it/s]"
      ]
     },
     "metadata": {},
     "output_type": "display_data"
    },
    {
     "data": {
      "application/vnd.jupyter.widget-view+json": {
       "model_id": "",
       "version_major": 2,
       "version_minor": 0
      },
      "text/plain": [
       "Validating: 0it [00:00, ?it/s]"
      ]
     },
     "metadata": {},
     "output_type": "display_data"
    },
    {
     "data": {
      "application/vnd.jupyter.widget-view+json": {
       "model_id": "",
       "version_major": 2,
       "version_minor": 0
      },
      "text/plain": [
       "Validating: 0it [00:00, ?it/s]"
      ]
     },
     "metadata": {},
     "output_type": "display_data"
    },
    {
     "data": {
      "application/vnd.jupyter.widget-view+json": {
       "model_id": "",
       "version_major": 2,
       "version_minor": 0
      },
      "text/plain": [
       "Validating: 0it [00:00, ?it/s]"
      ]
     },
     "metadata": {},
     "output_type": "display_data"
    },
    {
     "data": {
      "application/vnd.jupyter.widget-view+json": {
       "model_id": "",
       "version_major": 2,
       "version_minor": 0
      },
      "text/plain": [
       "Validating: 0it [00:00, ?it/s]"
      ]
     },
     "metadata": {},
     "output_type": "display_data"
    },
    {
     "data": {
      "application/vnd.jupyter.widget-view+json": {
       "model_id": "",
       "version_major": 2,
       "version_minor": 0
      },
      "text/plain": [
       "Validating: 0it [00:00, ?it/s]"
      ]
     },
     "metadata": {},
     "output_type": "display_data"
    }
   ],
   "source": [
    "# training the model\n",
    "num_epochs = 30\n",
    "trainer = Trainer(max_epochs=num_epochs, \n",
    "                  auto_lr_find=True)\n",
    "trainer.fit(net, train_loader, val_loader)"
   ]
  },
  {
   "cell_type": "code",
   "execution_count": 43,
   "id": "26df86f1-b842-49a4-8e94-b74e8bdbf906",
   "metadata": {},
   "outputs": [
    {
     "data": {
      "image/png": "[encoded data removed]",
      "text/plain": [
       "<Figure size 432x288 with 1 Axes>"
      ]
     },
     "metadata": {
      "needs_background": "light"
     },
     "output_type": "display_data"
    }
   ],
   "source": [
    "# plot the losses...\n",
    "plt.plot(net.datas['loss']['train'], 'b', label=\"train\")\n",
    "plt.plot(net.datas['loss']['test'], 'r', label=\"test\")\n",
    "plt.legend()\n",
    "plt.show()"
   ]
  },
  {
   "cell_type": "code",
   "execution_count": 46,
   "id": "9aa95885-bb31-4793-8493-c9ec984cf7f6",
   "metadata": {},
   "outputs": [
    {
     "data": {
      "image/png": "[encoded data removed]",
      "text/plain": [
       "<Figure size 1080x504 with 2 Axes>"
      ]
     },
     "metadata": {
      "needs_background": "light"
     },
     "output_type": "display_data"
    }
   ],
   "source": [
    "# testing\n",
    "plt.rcParams['figure.figsize'] = [15, 7]\n",
    "def testing(loader):\n",
    "    y_true = []\n",
    "    y_pred = []\n",
    "    limit = 80\n",
    "    it = 0\n",
    "    for x, y in loader:\n",
    "        y_true += [np.squeeze(y.numpy())]\n",
    "        y_pred += [np.squeeze(net(x).detach().numpy())]\n",
    "        it += 1\n",
    "        if it > limit:\n",
    "            break\n",
    "    y_true = np.concatenate(y_true, axis=0)\n",
    "    y_pred = np.concatenate(y_pred, axis=0)\n",
    "    return y_true, y_pred\n",
    "\n",
    "y_train_true, y_train_pred = testing(train_loader)\n",
    "y_val_true, y_val_pred = testing(val_loader)\n",
    "\n",
    "plt.subplot(121)\n",
    "plt.plot(y_train_true, 'b', label=\"true rul\")\n",
    "plt.plot(y_train_pred, 'r', label=\"pred rul\")\n",
    "plt.legend()\n",
    "plt.title('test with train')\n",
    "plt.subplot(122)\n",
    "plt.plot(y_val_true, 'b', label=\"true rul\")\n",
    "plt.plot(y_val_pred, 'r', label=\"pred rul\")\n",
    "plt.legend()\n",
    "plt.title('test with val')\n",
    "plt.show()"
   ]
  },
  {
   "cell_type": "code",
   "execution_count": null,
   "id": "da30369e-cd1a-4020-a38b-976eb8bc9648",
   "metadata": {},
   "outputs": [],
   "source": [
    "# The results are bad in large part of the time series..."
   ]
  }
 ],
 "metadata": {
  "kernelspec": {
   "display_name": "VE",
   "language": "python",
   "name": "ve"
  },
  "language_info": {
   "codemirror_mode": {
    "name": "ipython",
    "version": 3
   },
   "file_extension": ".py",
   "mimetype": "text/x-python",
   "name": "python",
   "nbconvert_exporter": "python",
   "pygments_lexer": "ipython3",
   "version": "3.8.10"
  }
 },
 "nbformat": 4,
 "nbformat_minor": 5
}
