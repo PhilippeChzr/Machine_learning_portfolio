{
 "cells": [
  {
   "cell_type": "code",
   "execution_count": 1,
   "id": "9f07b8f7",
   "metadata": {},
   "outputs": [],
   "source": [
    "# estimation of \"survived\" using a Random Forest Classifier"
   ]
  },
  {
   "cell_type": "code",
   "execution_count": 26,
   "id": "c8598724",
   "metadata": {},
   "outputs": [],
   "source": [
    "import numpy as np\n",
    "import pandas as pd\n",
    "from collections import Counter\n",
    "\n",
    "from sklearn.ensemble import RandomForestClassifier\n",
    "from sklearn.model_selection import train_test_split\n",
    "from sklearn.model_selection import KFold\n",
    "\n",
    "import tabulate\n",
    "import seaborn as sns\n",
    "import matplotlib.pyplot as plt"
   ]
  },
  {
   "cell_type": "code",
   "execution_count": 3,
   "id": "1e0de487",
   "metadata": {},
   "outputs": [],
   "source": [
    "data_train = pd.read_csv('./Dataset/train.csv')\n",
    "data_test = pd.read_csv('./Dataset/test.csv')"
   ]
  },
  {
   "cell_type": "code",
   "execution_count": 4,
   "id": "2b97fdfd",
   "metadata": {},
   "outputs": [],
   "source": [
    "# function to transform the first part of the name\n",
    "def transform_first(x, first_n):\n",
    "    fst = x.split(',')[0]\n",
    "    return first_n[fst]\n",
    "\n",
    "# function to transform the title \n",
    "def transform_title(x):\n",
    "    group_0 = ['Mr', 'Mrs', 'Miss', 'Mme', 'Ms', 'Mlle']\n",
    "    group_1 = ['Don', 'Rev', 'Dr', 'Major', 'Lady', 'Sir', 'Col', 'Capt']\n",
    "    title = x.split(',')[1]\n",
    "    status = 2\n",
    "    for t in group_0:\n",
    "        if t in title:\n",
    "            status = 0\n",
    "    for t in group_1:\n",
    "        if t in title:\n",
    "            status = 1\n",
    "    return status\n",
    "\n",
    "def transform(df):\n",
    "    attr_to_val = {}\n",
    "    attr_to_val[\"Pclass\"] = {\"1fst\":1, \"2nd\":2, \"3rd\":3}\n",
    "    attr_to_val[\"hasCabin\"] = {\"no\":0, \"yes\":1}\n",
    "    df[\"hasCabin\"] = np.where(pd.isnull(df['Cabin']), 0, 1)\n",
    "    attr_to_val[\"Sex\"] = {\"male\":0, \"female\":1}\n",
    "    df[\"Sex\"] = np.where(df[\"Sex\"]==\"male\", 0, 1)\n",
    "    attr_to_val[\"Embarked\"] = {'C':0, 'Q':1, 'S':2, np.nan:3} \n",
    "    df[\"Embarked\"] = df[\"Embarked\"].map(attr_to_val[\"Embarked\"], na_action=None)\n",
    "    \n",
    "    names = df['Name'].to_list()\n",
    "    n1 = [n.split(',')[0] for n in names]\n",
    "    first_n = Counter(n1)\n",
    "    \n",
    "    df[\"n1\"] = df[\"Name\"].apply(lambda x: transform_first(x, first_n))\n",
    "    \n",
    "    attr_to_val[\"n2\"] = {'group 0': 0 , \"group 1\": 1, \"ukn\":2}\n",
    "    df[\"n2\"] = df[\"Name\"].apply(lambda x: transform_title(x))\n",
    "    \n",
    "    mAge = df['Age'].mean()\n",
    "    df['Age'] = df['Age'].fillna(mAge)\n",
    "    return df, attr_to_val# reduction of the dataset\n",
    "\n",
    "def reduction(df):\n",
    "    return df[['Survived', 'Pclass', 'Sex','Age', 'SibSp', 'Parch', 'Fare', 'Embarked', 'hasCabin', 'n1', 'n2']]\n",
    "\n",
    "def normalization(df):\n",
    "    hist_norm = {}\n",
    "    for at in df.columns:\n",
    "        m = df[at].min()\n",
    "        M = df[at].max()\n",
    "        hist_norm[at] = (m, M)\n",
    "    dfn = (df - df.min()) / (df.max() - df.min())\n",
    "    return dfn, hist_norm"
   ]
  },
  {
   "cell_type": "code",
   "execution_count": 5,
   "id": "48f80326",
   "metadata": {},
   "outputs": [],
   "source": [
    "df, attr = transform(data_train)\n",
    "df = reduction(df)\n",
    "df, hist_norm = normalization(df)"
   ]
  },
  {
   "cell_type": "code",
   "execution_count": 6,
   "id": "54821cdb",
   "metadata": {},
   "outputs": [
    {
     "data": {
      "text/html": [
       "<div>\n",
       "<style scoped>\n",
       "    .dataframe tbody tr th:only-of-type {\n",
       "        vertical-align: middle;\n",
       "    }\n",
       "\n",
       "    .dataframe tbody tr th {\n",
       "        vertical-align: top;\n",
       "    }\n",
       "\n",
       "    .dataframe thead th {\n",
       "        text-align: right;\n",
       "    }\n",
       "</style>\n",
       "<table border=\"1\" class=\"dataframe\">\n",
       "  <thead>\n",
       "    <tr style=\"text-align: right;\">\n",
       "      <th></th>\n",
       "      <th>Survived</th>\n",
       "      <th>Pclass</th>\n",
       "      <th>Sex</th>\n",
       "      <th>Age</th>\n",
       "      <th>SibSp</th>\n",
       "      <th>Parch</th>\n",
       "      <th>Fare</th>\n",
       "      <th>Embarked</th>\n",
       "      <th>hasCabin</th>\n",
       "      <th>n1</th>\n",
       "      <th>n2</th>\n",
       "    </tr>\n",
       "  </thead>\n",
       "  <tbody>\n",
       "    <tr>\n",
       "      <th>0</th>\n",
       "      <td>0.0</td>\n",
       "      <td>1.0</td>\n",
       "      <td>0.0</td>\n",
       "      <td>0.271174</td>\n",
       "      <td>0.125</td>\n",
       "      <td>0.0</td>\n",
       "      <td>0.014151</td>\n",
       "      <td>0.666667</td>\n",
       "      <td>0.0</td>\n",
       "      <td>0.125</td>\n",
       "      <td>0.0</td>\n",
       "    </tr>\n",
       "    <tr>\n",
       "      <th>1</th>\n",
       "      <td>1.0</td>\n",
       "      <td>0.0</td>\n",
       "      <td>1.0</td>\n",
       "      <td>0.472229</td>\n",
       "      <td>0.125</td>\n",
       "      <td>0.0</td>\n",
       "      <td>0.139136</td>\n",
       "      <td>0.000000</td>\n",
       "      <td>1.0</td>\n",
       "      <td>0.000</td>\n",
       "      <td>0.0</td>\n",
       "    </tr>\n",
       "    <tr>\n",
       "      <th>2</th>\n",
       "      <td>1.0</td>\n",
       "      <td>1.0</td>\n",
       "      <td>1.0</td>\n",
       "      <td>0.321438</td>\n",
       "      <td>0.000</td>\n",
       "      <td>0.0</td>\n",
       "      <td>0.015469</td>\n",
       "      <td>0.666667</td>\n",
       "      <td>0.0</td>\n",
       "      <td>0.000</td>\n",
       "      <td>0.0</td>\n",
       "    </tr>\n",
       "    <tr>\n",
       "      <th>3</th>\n",
       "      <td>1.0</td>\n",
       "      <td>0.0</td>\n",
       "      <td>1.0</td>\n",
       "      <td>0.434531</td>\n",
       "      <td>0.125</td>\n",
       "      <td>0.0</td>\n",
       "      <td>0.103644</td>\n",
       "      <td>0.666667</td>\n",
       "      <td>1.0</td>\n",
       "      <td>0.125</td>\n",
       "      <td>0.0</td>\n",
       "    </tr>\n",
       "    <tr>\n",
       "      <th>4</th>\n",
       "      <td>0.0</td>\n",
       "      <td>1.0</td>\n",
       "      <td>0.0</td>\n",
       "      <td>0.434531</td>\n",
       "      <td>0.000</td>\n",
       "      <td>0.0</td>\n",
       "      <td>0.015713</td>\n",
       "      <td>0.666667</td>\n",
       "      <td>0.0</td>\n",
       "      <td>0.125</td>\n",
       "      <td>0.0</td>\n",
       "    </tr>\n",
       "  </tbody>\n",
       "</table>\n",
       "</div>"
      ],
      "text/plain": [
       "   Survived  Pclass  Sex       Age  SibSp  Parch      Fare  Embarked  \\\n",
       "0       0.0     1.0  0.0  0.271174  0.125    0.0  0.014151  0.666667   \n",
       "1       1.0     0.0  1.0  0.472229  0.125    0.0  0.139136  0.000000   \n",
       "2       1.0     1.0  1.0  0.321438  0.000    0.0  0.015469  0.666667   \n",
       "3       1.0     0.0  1.0  0.434531  0.125    0.0  0.103644  0.666667   \n",
       "4       0.0     1.0  0.0  0.434531  0.000    0.0  0.015713  0.666667   \n",
       "\n",
       "   hasCabin     n1   n2  \n",
       "0       0.0  0.125  0.0  \n",
       "1       1.0  0.000  0.0  \n",
       "2       0.0  0.000  0.0  \n",
       "3       1.0  0.125  0.0  \n",
       "4       0.0  0.125  0.0  "
      ]
     },
     "execution_count": 6,
     "metadata": {},
     "output_type": "execute_result"
    }
   ],
   "source": [
    "df.head(5)"
   ]
  },
  {
   "cell_type": "code",
   "execution_count": 9,
   "id": "54f4216f",
   "metadata": {},
   "outputs": [],
   "source": [
    "# split the dataset \n",
    "df_train, df_test = train_test_split(df, test_size=0.3, random_state=42)\n",
    "data = []\n",
    "for df in [df_train, df_test]:\n",
    "    y = df['Survived'].values\n",
    "    x = df.drop('Survived', axis=1).values\n",
    "    data += [(x, y)]"
   ]
  },
  {
   "cell_type": "code",
   "execution_count": 23,
   "id": "0e01f2ac",
   "metadata": {},
   "outputs": [
    {
     "data": {
      "text/plain": [
       "RandomForestClassifier(max_depth=4, random_state=0)"
      ]
     },
     "execution_count": 23,
     "metadata": {},
     "output_type": "execute_result"
    }
   ],
   "source": [
    "clf = RandomForestClassifier(max_depth=4, random_state=0)\n",
    "clf.fit(data[0][0], data[0][1])"
   ]
  },
  {
   "cell_type": "code",
   "execution_count": 24,
   "id": "2b02f2a4",
   "metadata": {},
   "outputs": [
    {
     "name": "stdout",
     "output_type": "stream",
     "text": [
      "0.8651685393258427 0.8097014925373134\n"
     ]
    }
   ],
   "source": [
    "score_train = clf.score(data[0][0], data[0][1])\n",
    "score_test = clf.score(data[1][0], data[1][1])\n",
    "print(score_train, score_test)"
   ]
  },
  {
   "cell_type": "code",
   "execution_count": 42,
   "id": "d5ecb515",
   "metadata": {},
   "outputs": [],
   "source": [
    "# we define a function to train a model using\n",
    "# 5-fold cross validation\n",
    "# the main purpose of this function is to find the best hyper-parameters\n",
    "# the function return the stats of the scores (min, mean, max)\n",
    "def search_model(depth=4, estimators=100):\n",
    "    Y = df['Survived'].values\n",
    "    X = df.drop('Survived', axis=1).values\n",
    "    scores = []\n",
    "    kf = KFold(n_splits=5)\n",
    "    for train_index, test_index in kf.split(X):\n",
    "        Xtr, Xte = X[train_index], X[test_index]\n",
    "        Ytr, Yte = Y[train_index], Y[test_index]\n",
    "        clf = RandomForestClassifier(n_estimators=estimators, max_depth=depth, random_state=0)\n",
    "        clf.fit(Xtr, Ytr)\n",
    "        scores += [clf.score(Xte, Yte)]\n",
    "    mi, me, ma = np.min(scores), np.mean(scores), np.max(scores)\n",
    "    print(\"estimators: {}, depth: {}\".format(estimators, depth))\n",
    "    print(\"score mean: {}\".format(me))\n",
    "    print(\"score min max: {} {}\".format(mi, ma))\n",
    "    print('')\n",
    "    return (mi, me, ma)"
   ]
  },
  {
   "cell_type": "code",
   "execution_count": 43,
   "id": "e9e9974c",
   "metadata": {},
   "outputs": [
    {
     "name": "stdout",
     "output_type": "stream",
     "text": [
      "estimators: 100, depth: 1\n",
      "score mean: 0.7312368972746331\n",
      "score min max: 0.660377358490566 0.8148148148148148\n",
      "\n",
      "estimators: 100, depth: 2\n",
      "score mean: 0.7612159329140461\n",
      "score min max: 0.7037037037037037 0.8333333333333334\n",
      "\n",
      "estimators: 100, depth: 3\n",
      "score mean: 0.7838574423480084\n",
      "score min max: 0.6851851851851852 0.8301886792452831\n",
      "\n",
      "estimators: 100, depth: 4\n",
      "score mean: 0.8059399021663174\n",
      "score min max: 0.7592592592592593 0.8333333333333334\n",
      "\n",
      "estimators: 100, depth: 5\n",
      "score mean: 0.8247379454926624\n",
      "score min max: 0.7407407407407407 0.8679245283018868\n",
      "\n",
      "estimators: 100, depth: 6\n",
      "score mean: 0.8322152341020266\n",
      "score min max: 0.7592592592592593 0.8518518518518519\n",
      "\n",
      "estimators: 100, depth: 7\n",
      "score mean: 0.835988819007687\n",
      "score min max: 0.7592592592592593 0.8703703703703703\n",
      "\n",
      "estimators: 100, depth: 8\n",
      "score mean: 0.8322851153039833\n",
      "score min max: 0.7592592592592593 0.9056603773584906\n",
      "\n",
      "estimators: 100, depth: 9\n",
      "score mean: 0.8210342417889587\n",
      "score min max: 0.7592592592592593 0.8679245283018868\n",
      "\n"
     ]
    }
   ],
   "source": [
    "results = []\n",
    "for i in range(1, 10):\n",
    "    r = search_model(depth=i)\n",
    "    results += [r]"
   ]
  },
  {
   "cell_type": "code",
   "execution_count": 44,
   "id": "5aaa29fb",
   "metadata": {},
   "outputs": [],
   "source": [
    "mis, mes, mas = zip(*results)"
   ]
  },
  {
   "cell_type": "code",
   "execution_count": 45,
   "id": "4f29458d",
   "metadata": {},
   "outputs": [
    {
     "data": {
      "image/png": "[encoded data removed]",
      "text/plain": [
       "<Figure size 432x288 with 1 Axes>"
      ]
     },
     "metadata": {
      "needs_background": "light"
     },
     "output_type": "display_data"
    }
   ],
   "source": [
    "# we plot the results \n",
    "for m, c, lab in zip([mis, mes, mas], ['blue', 'green', 'red'], [\"min\", \"mean\", \"max\"]):\n",
    "    plt.plot(np.arange(1, 10), m, c, label=lab)\n",
    "plt.legend()\n",
    "plt.xlabel(\"depth\")\n",
    "plt.ylabel(\"score\")"
   ]
  },
  {
   "cell_type": "code",
   "execution_count": null,
   "id": "4d08af60-c692-44cb-ab6f-1261e5d5710a",
   "metadata": {},
   "outputs": [],
   "source": [
    "# following these results, the best value for depth is 7"
   ]
  },
  {
   "cell_type": "code",
   "execution_count": 50,
   "id": "15034a42",
   "metadata": {},
   "outputs": [
    {
     "name": "stdout",
     "output_type": "stream",
     "text": [
      "estimators: 10, depth: 7\n",
      "score mean: 0.806009783368274\n",
      "score min max: 0.7592592592592593 0.8333333333333334\n",
      "\n",
      "estimators: 20, depth: 7\n",
      "score mean: 0.8133473095737248\n",
      "score min max: 0.7777777777777778 0.8518518518518519\n",
      "\n",
      "estimators: 30, depth: 7\n",
      "score mean: 0.8170510132774282\n",
      "score min max: 0.7777777777777778 0.8703703703703703\n",
      "\n",
      "estimators: 40, depth: 7\n",
      "score mean: 0.8210342417889587\n",
      "score min max: 0.7407407407407407 0.8679245283018868\n",
      "\n",
      "estimators: 50, depth: 7\n",
      "score mean: 0.8246680642907058\n",
      "score min max: 0.7592592592592593 0.8518518518518519\n",
      "\n",
      "estimators: 60, depth: 7\n",
      "score mean: 0.8285115303983229\n",
      "score min max: 0.7592592592592593 0.8679245283018868\n",
      "\n",
      "estimators: 70, depth: 7\n",
      "score mean: 0.8285115303983229\n",
      "score min max: 0.7592592592592593 0.8679245283018868\n",
      "\n",
      "estimators: 80, depth: 7\n",
      "score mean: 0.835988819007687\n",
      "score min max: 0.7592592592592593 0.8703703703703703\n",
      "\n",
      "estimators: 90, depth: 7\n",
      "score mean: 0.8284416491963661\n",
      "score min max: 0.7592592592592593 0.8703703703703703\n",
      "\n",
      "estimators: 100, depth: 7\n",
      "score mean: 0.835988819007687\n",
      "score min max: 0.7592592592592593 0.8703703703703703\n",
      "\n",
      "estimators: 110, depth: 7\n",
      "score mean: 0.83214535290007\n",
      "score min max: 0.7592592592592593 0.8703703703703703\n",
      "\n",
      "estimators: 120, depth: 7\n",
      "score mean: 0.8322152341020266\n",
      "score min max: 0.7592592592592593 0.8703703703703703\n",
      "\n",
      "estimators: 130, depth: 7\n",
      "score mean: 0.8322152341020266\n",
      "score min max: 0.7592592592592593 0.8703703703703703\n",
      "\n",
      "estimators: 140, depth: 7\n",
      "score mean: 0.8359189378057303\n",
      "score min max: 0.7592592592592593 0.8703703703703703\n",
      "\n",
      "estimators: 150, depth: 7\n",
      "score mean: 0.8322152341020266\n",
      "score min max: 0.7592592592592593 0.8518518518518519\n",
      "\n",
      "estimators: 160, depth: 7\n",
      "score mean: 0.8322152341020266\n",
      "score min max: 0.7592592592592593 0.8518518518518519\n",
      "\n",
      "estimators: 170, depth: 7\n",
      "score mean: 0.8322152341020266\n",
      "score min max: 0.7592592592592593 0.8518518518518519\n",
      "\n",
      "estimators: 180, depth: 7\n",
      "score mean: 0.8322152341020266\n",
      "score min max: 0.7592592592592593 0.8518518518518519\n",
      "\n",
      "estimators: 190, depth: 7\n",
      "score mean: 0.835988819007687\n",
      "score min max: 0.7592592592592593 0.8679245283018868\n",
      "\n"
     ]
    },
    {
     "data": {
      "image/png": "[encoded data removed]",
      "text/plain": [
       "<Figure size 432x288 with 1 Axes>"
      ]
     },
     "metadata": {
      "needs_background": "light"
     },
     "output_type": "display_data"
    }
   ],
   "source": [
    "results = []\n",
    "xsteps = np.arange(10, 200, 10)\n",
    "for i in xsteps:\n",
    "    r = search_model(depth=7, estimators=i)\n",
    "    results += [r]\n",
    "mis, mes, mas = zip(*results)\n",
    "for m, c, lab in zip([mis, mes, mas], ['blue', 'green', 'red'], [\"min\", \"mean\", \"max\"]):\n",
    "    plt.plot(xsteps, m, c, label=lab)\n",
    "plt.legend()\n",
    "plt.xlabel(\"estimators\")\n",
    "plt.ylabel(\"score\")"
   ]
  },
  {
   "cell_type": "code",
   "execution_count": 51,
   "id": "97203d9f",
   "metadata": {},
   "outputs": [
    {
     "name": "stdout",
     "output_type": "stream",
     "text": [
      "estimators: 25, depth: 1\n",
      "score mean: 0.7122990915443744\n",
      "score min max: 0.6037735849056604 0.8148148148148148\n",
      "\n",
      "estimators: 25, depth: 2\n",
      "score mean: 0.738993710691824\n",
      "score min max: 0.6481481481481481 0.8148148148148148\n",
      "\n",
      "estimators: 25, depth: 3\n",
      "score mean: 0.783717679944095\n",
      "score min max: 0.7037037037037037 0.8301886792452831\n",
      "\n",
      "estimators: 25, depth: 4\n",
      "score mean: 0.8059399021663172\n",
      "score min max: 0.7592592592592593 0.8703703703703703\n",
      "\n",
      "estimators: 25, depth: 5\n",
      "score mean: 0.7725366876310272\n",
      "score min max: 0.7037037037037037 0.8148148148148148\n",
      "\n",
      "estimators: 25, depth: 6\n",
      "score mean: 0.809853249475891\n",
      "score min max: 0.7777777777777778 0.8301886792452831\n",
      "\n",
      "estimators: 25, depth: 7\n",
      "score mean: 0.8134171907756814\n",
      "score min max: 0.7777777777777778 0.8703703703703703\n",
      "\n",
      "estimators: 25, depth: 8\n",
      "score mean: 0.817330538085255\n",
      "score min max: 0.7777777777777778 0.8679245283018868\n",
      "\n",
      "estimators: 25, depth: 9\n",
      "score mean: 0.8171907756813418\n",
      "score min max: 0.7592592592592593 0.8518518518518519\n",
      "\n"
     ]
    },
    {
     "data": {
      "image/png": "[encoded data removed]",
      "text/plain": [
       "<Figure size 432x288 with 1 Axes>"
      ]
     },
     "metadata": {
      "needs_background": "light"
     },
     "output_type": "display_data"
    }
   ],
   "source": [
    "results = []\n",
    "xsteps = np.arange(1, 10, 1)\n",
    "for i in xsteps:\n",
    "    r = search_model(depth=i, estimators=25)\n",
    "    results += [r]\n",
    "mis, mes, mas = zip(*results)\n",
    "for m, c in zip([mis, mes, mas], ['blue', 'green', 'red']):\n",
    "    plt.plot(xsteps, m, c)"
   ]
  },
  {
   "cell_type": "code",
   "execution_count": null,
   "id": "a4ed2bf3",
   "metadata": {},
   "outputs": [],
   "source": [
    "# One possible paramters are depth 6, estimator 25"
   ]
  }
 ],
 "metadata": {
  "kernelspec": {
   "display_name": "VE",
   "language": "python",
   "name": "ve"
  },
  "language_info": {
   "codemirror_mode": {
    "name": "ipython",
    "version": 3
   },
   "file_extension": ".py",
   "mimetype": "text/x-python",
   "name": "python",
   "nbconvert_exporter": "python",
   "pygments_lexer": "ipython3",
   "version": "3.8.10"
  }
 },
 "nbformat": 4,
 "nbformat_minor": 5
}
